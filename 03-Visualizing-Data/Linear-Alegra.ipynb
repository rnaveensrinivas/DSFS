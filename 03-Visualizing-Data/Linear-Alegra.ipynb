{
 "cells": [
  {
   "cell_type": "markdown",
   "id": "ea82e952-d862-466e-9658-28730eb5c8aa",
   "metadata": {},
   "source": [
    "# Linear Algebra"
   ]
  },
  {
   "cell_type": "markdown",
   "id": "f3321393-f203-41c9-a229-93b10b5e37a5",
   "metadata": {},
   "source": [
    "**Linear algebra** is a branch of mathematics that focuses on vector spaces, linear equations, and transformations. It deals with operations on vectors and matrices, such as addition, multiplication, and finding eigenvalues and eigenvectors, and is foundational to many areas of mathematics, science, and engineering. Linear algebra is essential for solving systems of linear equations and modeling linear relationships."
   ]
  },
  {
   "cell_type": "markdown",
   "id": "18856e65-3a1e-4b2e-8caf-901332579e55",
   "metadata": {},
   "source": [
    "# Vectors"
   ]
  },
  {
   "cell_type": "code",
   "execution_count": 10,
   "id": "911f1a72-f727-4cf9-a8a0-5e078401457c",
   "metadata": {},
   "outputs": [],
   "source": [
    "from typing import List\n",
    "\n",
    "Vector = List[float]"
   ]
  },
  {
   "cell_type": "code",
   "execution_count": 11,
   "id": "e3f059ca-fb11-4c4d-bbe8-5a402db41195",
   "metadata": {},
   "outputs": [],
   "source": [
    "height_weight_age = [70,  # Inches\n",
    "                     170, # Pounds\n",
    "                     40]  # Age\n",
    "# Vectors are usally represent as column vectors. \n",
    "\n",
    "grades = [95, # Exam 1\n",
    "          80, # Exam 2\n",
    "          75, # Exam 3\n",
    "          62] # Exam 4"
   ]
  },
  {
   "cell_type": "code",
   "execution_count": 12,
   "id": "3f147cae-2a32-43ff-b95d-a5b5909d8abf",
   "metadata": {},
   "outputs": [],
   "source": [
    "def add(v: Vector, w: Vector) -> Vector: \n",
    "    \"\"\"Adds two vectors component-wise.\"\"\"\n",
    "\n",
    "    assert len(v) == len(w), \"Vectors must be same length to be added.\"\n",
    "\n",
    "    return [v_i + w_i for v_i, w_i in zip(v, w)]\n",
    "\n",
    "\n",
    "# Testing the add method\n",
    "assert add([1, 2, 3], [4, 5, 6]) == [5, 7, 9], \"Logical Error in add()\""
   ]
  },
  {
   "cell_type": "code",
   "execution_count": 13,
   "id": "0b61751a-0550-4b07-855c-d3f9cb131d72",
   "metadata": {},
   "outputs": [],
   "source": [
    "def subtract(v: Vector, w: Vector) -> Vector: \n",
    "    \"\"\"Subtract two vectors component-wise.\"\"\"\n",
    "\n",
    "    assert len(v) == len(w), \"Vectors must be same length to be added.\"\n",
    "\n",
    "    return [v_i - w_i for v_i, w_i in zip(v, w)]\n",
    "\n",
    "# Testing the subtract method\n",
    "assert subtract([5, 7, 9], [4, 5, 6]) == [1, 2, 3], \"Logical Error in subtract()\""
   ]
  },
  {
   "cell_type": "code",
   "execution_count": 17,
   "id": "775fae89-5aa5-444c-bac5-4a4654fe4a0a",
   "metadata": {},
   "outputs": [],
   "source": [
    "def vector_sum(vectors: List[Vector]) -> Vector:\n",
    "    \"\"\"Sum all the vectors component-wise.\"\"\"\n",
    "\n",
    "    assert vectors, \"No vectors provided!\"\n",
    "\n",
    "    num_elements = len(vectors[0])\n",
    "    assert all(len(v) == num_elements for v in vectors), \"Vectors \\\n",
    "    are of different sizes!\"\n",
    "\n",
    "    return [sum(vector[i] for vector in vectors) for i in range(num_elements)]\n",
    "\n",
    "assert vector_sum([[1, 2], [3, 4], [5, 6], [7, 8]]) == [16, 20], \"Logical Error in vector_sum()\""
   ]
  },
  {
   "cell_type": "code",
   "execution_count": 18,
   "id": "220a9390-4c8d-426d-9050-0b0b0ba2b760",
   "metadata": {},
   "outputs": [],
   "source": [
    "def scalar_multiply(c: float, v: Vector) -> Vector: \n",
    "    \"\"\"Multiply every element by c.\"\"\"\n",
    "    return [c * v_i for v_i in v]\n",
    "\n",
    "assert scalar_multiply(2, [1, 2, 3]) == [2, 4, 6]"
   ]
  },
  {
   "cell_type": "code",
   "execution_count": 19,
   "id": "aa159f95-e070-44f4-83e7-4fe6b9f10f31",
   "metadata": {},
   "outputs": [],
   "source": [
    "# Using the above two let's find the component wise mean\n",
    "\n",
    "def vector_mean(vectors: List[Vector]) -> Vector: \n",
    "    \"\"\"Compute the component-wise average.\"\"\"\n",
    "\n",
    "    n = len(vectors)\n",
    "    return scalar_multiply(1/n, vector_sum(vectors))\n",
    "\n",
    "assert vector_mean([[1, 2], [3, 4], [5, 6]]) == [3, 4], \"Logical Error in vector_mean()\""
   ]
  },
  {
   "cell_type": "code",
   "execution_count": 20,
   "id": "c7730c7f-6222-4efc-9224-e2015600da1a",
   "metadata": {},
   "outputs": [],
   "source": [
    "def dot_product(v: Vector, w: Vector) -> float: \n",
    "    \"\"\"Compute the dot product of two vectors\"\"\"\n",
    "\n",
    "    assert len(v) == len(w), \"Vectors of different size!\"\n",
    "\n",
    "    return sum(v_i * w_i for v_i, w_i in zip(v, w))\n",
    "\n",
    "assert dot([1, 2, 3], [4, 5, 6]) == 32, \"Logical Error in dot_product()\""
   ]
  },
  {
   "cell_type": "code",
   "execution_count": 21,
   "id": "5c528fa6-e7bd-4354-929f-c3c99b7f873c",
   "metadata": {},
   "outputs": [],
   "source": [
    "def sum_of_squares(v: Vector) -> float: \n",
    "    \"\"\"Compute the sum of swaures of each component in Vector\"\"\"\n",
    "\n",
    "    # return sum(v_i**2 for v_i in v)\n",
    "    # using dot product to calculate sum of squares\n",
    "    return dot_product(v, v)\n",
    "\n",
    "assert sum_of_squares([1, 2, 3]) == 14, \"Logical Error in sum_of_squares()\""
   ]
  },
  {
   "cell_type": "code",
   "execution_count": 22,
   "id": "802fe6ac-03f1-41fe-a48a-c5b44b81b32c",
   "metadata": {},
   "outputs": [],
   "source": [
    "def magnitude(v: Vector) -> float:\n",
    "    \"\"\"Return the magnitude (or length) of given vector v\"\"\"\n",
    "    \n",
    "    return sum_of_squares(v)**0.5\n",
    "\n",
    "assert magnitude([3, 4]) == 5"
   ]
  },
  {
   "cell_type": "code",
   "execution_count": 24,
   "id": "897ffdd5-e1d8-475d-91a6-ed115a42847c",
   "metadata": {},
   "outputs": [],
   "source": [
    "def squared_distance(v: Vector, w: Vector) -> float:\n",
    "    \"\"\"Compute the squared distance between any two vectors.\"\"\"\n",
    "\n",
    "    assert len(v) == len(w), \"Vectors of different length\"\n",
    "\n",
    "    return sum_of_squares(subtract(v,w))\n",
    "\n",
    "def distance(v: Vector, w: Vector) -> float:\n",
    "    \"\"\"Compute the squared distance between any two vectors.\"\"\"\n",
    "\n",
    "    assert len(v) == len(w), \"Vectors of different length\"\n",
    "\n",
    "    # return squared_distance(v,w)**0.5\n",
    "    # Or\n",
    "    return magnitude(subtract(v, w))"
   ]
  },
  {
   "cell_type": "markdown",
   "id": "16558c46-08f6-446a-98f3-a19dc8b69710",
   "metadata": {},
   "source": [
    "## Note\n",
    "Using lists as vectors is great for exposition but **terrible for performance**.  \n",
    "In production code, you would want to use the **NumPy library**, which includes a high-performance array class with all sorts of arithmetic operations included."
   ]
  },
  {
   "cell_type": "markdown",
   "id": "10c9683e-b985-49b0-a0dc-8403f194cbb8",
   "metadata": {},
   "source": [
    "# Matrices"
   ]
  },
  {
   "cell_type": "code",
   "execution_count": 25,
   "id": "c5004e88-9bff-4f80-ab23-6895664746ad",
   "metadata": {},
   "outputs": [],
   "source": [
    "Matrix = List[List[float]]"
   ]
  },
  {
   "cell_type": "code",
   "execution_count": 28,
   "id": "b13a825c-dac5-4374-862a-849ed21c0482",
   "metadata": {},
   "outputs": [],
   "source": [
    "A = [[1,2,3],\n",
    "     [4,5,6]]\n",
    "\n",
    "B = [[1,2],\n",
    "     [3,4],\n",
    "     [5,6]]"
   ]
  },
  {
   "cell_type": "code",
   "execution_count": 29,
   "id": "8c6617c8-8d64-4021-a058-26f74c0395c7",
   "metadata": {},
   "outputs": [],
   "source": [
    "# Let's start with shape\n",
    "from typing import Tuple\n",
    "\n",
    "def shape(A: Matrix) -> Tuple[int, int]:\n",
    "    \"\"\"Returns the (# of rows of A, # of columns of A)\"\"\"\n",
    "\n",
    "    num_rows = len(A)\n",
    "    num_cols = len(A[0])\n",
    "\n",
    "    return num_rows, num_cols\n",
    "    \n",
    "assert shape([[1, 2, 3], [4, 5, 6]]) == (2, 3) # 2 rows, 3 columns"
   ]
  },
  {
   "cell_type": "markdown",
   "id": "b0ceeacf-2b2d-4ec9-aeb1-dda01fc52f2c",
   "metadata": {},
   "source": [
    "If a matrix has n rows and k columns, we will refer to it as an n × k matrix.\n",
    "We can (and sometimes will) think of each row of an n × k matrix as a vector of length k, and each column as a vector of length n"
   ]
  },
  {
   "cell_type": "code",
   "execution_count": 30,
   "id": "feeb88c0-d538-4f7f-af2d-1ca3a62fe0ab",
   "metadata": {},
   "outputs": [],
   "source": [
    "def get_row(A: Matrix, i: int) -> Vector:\n",
    "    \"\"\"Returns the i-th row of A (as a Vector)\"\"\"\n",
    "    return A[i]       # A[i] is already the ith row\n",
    "\n",
    "def get_column(A: Matrix, j: int) -> Vector:\n",
    "    \"\"\"Returns the j-th column of A (as a Vector)\"\"\"\n",
    "    return [A_i[j]        # jth element of row A_i\n",
    "            for A_i in A] # for each row A_i"
   ]
  },
  {
   "cell_type": "code",
   "execution_count": 34,
   "id": "a58e8cc7-a818-40e8-8d18-e06fad731c22",
   "metadata": {},
   "outputs": [],
   "source": [
    "# Creating a matrix given it's shape and a function for generating its elements\n",
    "from typing import Callable\n",
    "\n",
    "def make_matrix(num_rows: int, \n",
    "                num_cols: int, \n",
    "                entry_fn: Callable[[int, int], float]) -> Matrix: \n",
    "    \"\"\"Returns a num_rows x num_cols matrix whose (i,j)-th entry is entry_fn(i, j).\"\"\"\n",
    "\n",
    "    return [[entry_fn(i, j) for j in range(num_cols)] for i in range(num_rows) ]"
   ]
  },
  {
   "cell_type": "code",
   "execution_count": 35,
   "id": "3e0d3ac2-865c-4172-965d-388de9b8ddb7",
   "metadata": {},
   "outputs": [],
   "source": [
    "def identity_matrix(n: int) -> Matrix: \n",
    "    \"\"\"Returns a n x n identity matrix.\"\"\"\n",
    "    return make_matrix(n, n, lambda i,j: 1 if i==j else 0)\n",
    "\n",
    "assert identity_matrix(5) == [[1, 0, 0, 0, 0],\n",
    "                              [0, 1, 0, 0, 0],\n",
    "                              [0, 0, 1, 0, 0],\n",
    "                              [0, 0, 0, 1, 0],\n",
    "                              [0, 0, 0, 0, 1]]"
   ]
  },
  {
   "cell_type": "code",
   "execution_count": null,
   "id": "7a13b7a9-5cbf-4f98-a376-a005be72717e",
   "metadata": {},
   "outputs": [],
   "source": []
  }
 ],
 "metadata": {
  "kernelspec": {
   "display_name": "Python 3 (ipykernel)",
   "language": "python",
   "name": "python3"
  },
  "language_info": {
   "codemirror_mode": {
    "name": "ipython",
    "version": 3
   },
   "file_extension": ".py",
   "mimetype": "text/x-python",
   "name": "python",
   "nbconvert_exporter": "python",
   "pygments_lexer": "ipython3",
   "version": "3.12.7"
  }
 },
 "nbformat": 4,
 "nbformat_minor": 5
}
